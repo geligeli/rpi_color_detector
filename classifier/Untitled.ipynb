{
 "cells": [
  {
   "cell_type": "code",
   "execution_count": null,
   "id": "b1adb111-6b4d-4bbe-9ffc-50955001437f",
   "metadata": {},
   "outputs": [],
   "source": [
    "#!pip3 install --user matplotlib\n",
    "\n",
    "import sys\n",
    "#sys.modules[__name__].__dict__.clear()\n",
    "\n",
    "import glob\n",
    "import numpy as np\n",
    "import matplotlib.pyplot as plt\n",
    "import matplotlib.image as mpimg\n",
    "from scipy import sparse\n",
    "from sklearn import linear_model\n",
    "from sklearn.linear_model import LassoCV\n",
    "from sklearn.decomposition import PCA\n"
   ]
  },
  {
   "cell_type": "code",
   "execution_count": 88,
   "id": "ddf69e7d-cdbf-4070-8fb5-9aee0cffb4a5",
   "metadata": {},
   "outputs": [],
   "source": [
    "aside=np.array([mpimg.imread(x) for x in glob.glob('/nfs/general/shared/KeyA/*.jpg')])\n",
    "bside=np.array([mpimg.imread(x) for x in glob.glob('/nfs/general/shared/KeyD/*.jpg')])\n",
    "y=np.zeros(aside.shape[0] + bside.shape[0])\n",
    "y[:aside.shape[0]]=1.0\n",
    "y[aside.shape[0]:]=0.0\n",
    "X=np.concatenate((aside,bside),axis=0)\n",
    "X=X.reshape(X.shape[0],-1)\n",
    "kImgShape=aside.shape[1:]\n",
    "\n",
    "def XtoImgShape(Xline):\n",
    "    return Xline.reshape(aside.shape[1:])\n",
    "\n",
    "def PlotSparseness(x):\n",
    "    plt.imshow(np.where(x!=0,255,0), interpolation='nearest')\n",
    "    \n",
    "def GenSingleChannelDicts(s, windowSizes):\n",
    "    for windowSize in windowSizes:\n",
    "        for x in range(0, s[0], windowSize):\n",
    "            for y in range(0, s[1], windowSize):\n",
    "                r=np.zeros(s)\n",
    "                r[x:x+windowSize,y:y+windowSize]=1\n",
    "                yield r\n",
    "\n",
    "def SpreadAcrossColors(mask):\n",
    "    for i in [0,1,2]:\n",
    "        r=np.zeros((*mask.shape,3))\n",
    "        r[:,:,i]=mask\n",
    "        yield r\n",
    "\n",
    "def GenDict(s, windowSize):\n",
    "    for d in GenSingleChannelDicts(s, windowSize):\n",
    "        for m in SpreadAcrossColors(d):\n",
    "            yield m\n",
    "\n",
    "def GenDictSize(s, windowSize):\n",
    "    size=0\n",
    "    for d in GenSingleChannelDicts(s, windowSize):\n",
    "        for m in SpreadAcrossColors(d):\n",
    "            size += 1\n",
    "    return size\n"
   ]
  },
  {
   "cell_type": "code",
   "execution_count": 21,
   "id": "28e7e1d1",
   "metadata": {},
   "outputs": [
    {
     "data": {
      "text/plain": [
       "900"
      ]
     },
     "execution_count": 21,
     "metadata": {},
     "output_type": "execute_result"
    }
   ],
   "source": [
    "GenDictSize(kImgShape[:2],[32])\n"
   ]
  },
  {
   "cell_type": "markdown",
   "id": "3c3d5b3b",
   "metadata": {},
   "source": []
  },
  {
   "cell_type": "code",
   "execution_count": null,
   "id": "32a10985-6b50-489d-9e02-bc79560a7ef8",
   "metadata": {},
   "outputs": [],
   "source": [
    "sparse_mats=[sparse.coo_matrix(x.astype(np.float32).reshape((-1,1))) for x in GenDict(kImgShape[:2],[8,16,32])]\n",
    "proj=sparse.hstack(sparse_mats)\n",
    "Xp=X.dot(proj)"
   ]
  },
  {
   "cell_type": "code",
   "execution_count": 22,
   "id": "9ac8486a-f477-4221-ba56-a79d17ca5333",
   "metadata": {},
   "outputs": [
    {
     "name": "stderr",
     "output_type": "stream",
     "text": [
      "...../home/geli/.local/lib/python3.8/site-packages/sklearn/linear_model/_coordinate_descent.py:647: ConvergenceWarning: Objective did not converge. You might want to increase the number of iterations, check the scale of the features or consider increasing regularisation. Duality gap: 1.491e-01, tolerance: 1.600e-03\n",
      "  model = cd_fast.enet_coordinate_descent(\n",
      "./home/geli/.local/lib/python3.8/site-packages/sklearn/linear_model/_coordinate_descent.py:647: ConvergenceWarning: Objective did not converge. You might want to increase the number of iterations, check the scale of the features or consider increasing regularisation. Duality gap: 7.577e-02, tolerance: 1.600e-03\n",
      "  model = cd_fast.enet_coordinate_descent(\n",
      "./home/geli/.local/lib/python3.8/site-packages/sklearn/linear_model/_coordinate_descent.py:647: ConvergenceWarning: Objective did not converge. You might want to increase the number of iterations, check the scale of the features or consider increasing regularisation. Duality gap: 1.061e-02, tolerance: 1.600e-03\n",
      "  model = cd_fast.enet_coordinate_descent(\n",
      "..."
     ]
    }
   ],
   "source": [
    "#proj=np.array([x for x in GenDict(kImgShape[:2],[16,32])])\n",
    "#Xp=np.matmul(X, proj.reshape((proj.shape[0],-1)).transpose())\n",
    "#proj=sparse.hstack([sparse.csr_matrix(x.astype(np.float32).reshape((-1,1))) for x in GenDict(kImgShape[:2],[8,16,32])], format='csr')\n",
    "\n",
    "#Xp=np.matmul(X, proj)\n",
    "Xp=X\n",
    "\n",
    "# foo=PCA(n_components=2).fit_transform(Xp.transpose())\n",
    "# plt.scatter(foo[:,0],foo[:,1],color='r')\n",
    "# plt.scatter(foo[:10,0],foo[:10,1],color='g')\n",
    "\n",
    "\n",
    "#clf = linear_model.Lasso(alpha=0.1)\n",
    "#clf.fit(X,y)\n",
    "\n",
    "eps = 1e-3\n",
    "#alphas_lasso, coefs_lasso, coefs = linear_model.lasso_path(X,Y, eps=eps, verbose=True,  alphas=np.logspace(-4, 1, 10))\n",
    "\n",
    "alphas_lasso, coefs_lasso, coefs = linear_model.lasso_path(Xp,y,eps=eps, verbose=True,  alphas=np.logspace(-4, 4, 10))\n",
    "\n",
    "#alphas_lars, coefs_lars, coefs = linear_model.lars_path(X, y, method=\"lasso\", verbose=True)\n",
    "#alphas_lars"
   ]
  },
  {
   "cell_type": "code",
   "execution_count": 26,
   "id": "6573ca5a",
   "metadata": {},
   "outputs": [
    {
     "data": {
      "text/plain": [
       "array([0.00000000e+00, 0.00000000e+00, 0.00000000e+00, 2.32087102e-07,\n",
       "       5.96507338e-06, 1.81840436e-03, 9.24048252e-04, 1.29374734e-04,\n",
       "       1.91713397e-05, 3.58130254e-06])"
      ]
     },
     "execution_count": 26,
     "metadata": {},
     "output_type": "execute_result"
    }
   ],
   "source": [
    "coefs"
   ]
  },
  {
   "cell_type": "code",
   "execution_count": 71,
   "id": "0105662e",
   "metadata": {},
   "outputs": [
    {
     "name": "stderr",
     "output_type": "stream",
     "text": [
      "/home/geli/.local/lib/python3.8/site-packages/sklearn/linear_model/_omp.py:419: RuntimeWarning: Orthogonal matching pursuit ended prematurely due to linear dependence in the dictionary. The requested precision might not have been met.\n",
      "  out = _cholesky_omp(\n"
     ]
    }
   ],
   "source": [
    "from sklearn.linear_model import OrthogonalMatchingPursuit\n",
    "\n",
    "reg = OrthogonalMatchingPursuit(normalize=False, n_nonzero_coefs=100).fit(X, y)"
   ]
  },
  {
   "cell_type": "code",
   "execution_count": 80,
   "id": "3c48b48b",
   "metadata": {},
   "outputs": [
    {
     "data": {
      "image/png": "[encoded data removed]",
      "text/plain": [
       "<Figure size 432x288 with 1 Axes>"
      ]
     },
     "metadata": {
      "needs_background": "light"
     },
     "output_type": "display_data"
    }
   ],
   "source": [
    "PlotSparseness(XtoImgShape(reg.coef_))"
   ]
  },
  {
   "cell_type": "code",
   "execution_count": 114,
   "id": "acd32d7a",
   "metadata": {},
   "outputs": [
    {
     "data": {
      "text/plain": [
       "b'\\xe0\\x01\\x00\\x00\\x00\\x00\\x00\\x00\\x80\\x02\\x00\\x00\\x00\\x00\\x00\\x00\\x03\\x00\\x00\\x00\\x00\\x00\\x00\\x00d\\x00\\x00\\x00\\x00\\x00\\x00\\x00'"
      ]
     },
     "execution_count": 114,
     "metadata": {},
     "output_type": "execute_result"
    }
   ],
   "source": [
    "a=array.array('l')\n",
    "a.fromlist(list(kImgShape)+[reg.n_nonzero_coefs])\n",
    "a.tobytes()"
   ]
  },
  {
   "cell_type": "code",
   "execution_count": 113,
   "id": "006d5cee-51db-43dc-b96c-ba9f794e6fac",
   "metadata": {},
   "outputs": [
    {
     "data": {
      "text/plain": [
       "100"
      ]
     },
     "execution_count": 113,
     "metadata": {},
     "output_type": "execute_result"
    }
   ],
   "source": [
    "import array\n",
    "reshapedCoefs=reg.coef_.reshape(kImgShape)\n",
    "x_,y_,c_=np.nonzero(reshapedCoefs)\n",
    "coefs_=reshapedCoefs[x_,y_,c_]\n",
    "\n",
    "\n",
    "\n",
    "def SaveModel(reg, fname):\n",
    "    import array\n",
    "    reshapedCoefs=reg.coef_.reshape(kImgShape)\n",
    "    x_,y_,c_=np.nonzero(reshapedCoefs)\n",
    "    coefs_=reshapedCoefs[x_,y_,c_]\n",
    "    f=open(fname,'wb')\n",
    "    sizeArray=array.array('l')\n",
    "    sizeArray.fromlist(list(kImgShape)+[reg.n_nonzero_coefs])\n",
    "    f.write(sizeArray.tobytes())\n",
    "\n",
    "    indexArray=array.array('l')\n",
    "    indexArray.fromlist(list(x_)+list(y_)+list(c_))\n",
    "    f.write(indexArray.tobytes())\n",
    "\n",
    "    coefArray=array.array('f')\n",
    "    coefArray.append(reg.intercept_)\n",
    "    coefArray.extend(list(coefs_))\n",
    "    f.write(coefArray.tobytes())\n",
    "    f.close()\n",
    "\n",
    "\n",
    "#     f.close()\n",
    "\n",
    "\n",
    "#X.dot(reg.coef_)\n",
    "# lambda_max=np.max(np.abs(X.transpose().dot(y)))/y.size\n",
    "# print(lambda_max)\n",
    "# l=linear_model.Lasso(alpha=lambda_max*0.01)\n",
    "# r=l.fit(X,y)\n",
    "\n",
    "\n",
    "#np.sum(coefs_lasso[:,-1] != 0.0)\n",
    "#PlotSparseness(XtoImgShape(coefs_lasso[:,-1]))\n",
    "\n",
    "#coefs_lasso.shape\n",
    "\n",
    "#plt.imshow(np.max(proj[coefs_lasso[:,2]!=0,:,:,:],axis=0), interpolation='nearest')\n",
    "#print('num coefs={}'.format(np.sum(np.abs(l.coef_) > 0.0)))\n",
    "\n",
    "# PlotSparseness(XtoImgShape(X[0,:]))\n",
    "\n",
    "#len(coefs_)\n",
    "\n"
   ]
  },
  {
   "cell_type": "code",
   "execution_count": null,
   "id": "ad3e644b-e0f9-4d19-b744-2f41f88f32f6",
   "metadata": {},
   "outputs": [],
   "source": [
    "import sys\n",
    "\n",
    "# These are the usual ipython objects, including this one you are creating\n",
    "ipython_vars = ['In', 'Out', 'exit', 'quit', 'get_ipython', 'ipython_vars']\n",
    "\n",
    "# Get a sorted list of the objects and their sizes\n",
    "sorted([(x, sys.getsizeof(globals().get(x))) for x in dir() if not x.startswith('_') and x not in sys.modules and x not in ipython_vars], key=lambda x: x[1], reverse=True)\n",
    "\n",
    "#plt.imshow(np.max(proj[coefs_lasso[:,1]!=0,:,:,:],axis=0), interpolation='nearest')\n",
    "\n",
    "#coefs_lasso[coefs_lasso[:,1]!=0,1]"
   ]
  },
  {
   "cell_type": "code",
   "execution_count": null,
   "id": "ddca14cd-14eb-4e8b-8239-1541112f0277",
   "metadata": {},
   "outputs": [],
   "source": [
    "x=x.tocsc()"
   ]
  },
  {
   "cell_type": "code",
   "execution_count": null,
   "id": "894f4047-8cef-4d55-b9fa-0f4e304986aa",
   "metadata": {},
   "outputs": [],
   "source": [
    "#np.sum(coefs_lasso!=0,axis=0)"
   ]
  },
  {
   "cell_type": "code",
   "execution_count": null,
   "id": "d39ffd07-d64d-41cd-b0fe-e1b0dad08612",
   "metadata": {},
   "outputs": [],
   "source": []
  },
  {
   "cell_type": "code",
   "execution_count": null,
   "id": "1a0da3ea-a65d-4797-949a-507416a5ce6f",
   "metadata": {},
   "outputs": [],
   "source": [
    "#help(linear_model.lasso_path)"
   ]
  },
  {
   "cell_type": "code",
   "execution_count": null,
   "id": "c5e5b981-b119-4aae-971b-6c21a3cbd53a",
   "metadata": {},
   "outputs": [],
   "source": [
    "#from sklearn.decomposition import sparse_encode "
   ]
  },
  {
   "cell_type": "code",
   "execution_count": null,
   "id": "f53c0356-f487-4a46-9b94-a7aef678f49e",
   "metadata": {},
   "outputs": [],
   "source": [
    "#help(sparse_encode)"
   ]
  },
  {
   "cell_type": "code",
   "execution_count": null,
   "id": "6909d5cc-f307-45bf-b054-451bcab3950d",
   "metadata": {},
   "outputs": [],
   "source": [
    "# from sklearn.cluster import KMeans\n",
    "# from sklearn.decomposition import PCA\n",
    "\n",
    "# reduced_data = PCA(n_components=2).fit_transform(X)"
   ]
  },
  {
   "cell_type": "code",
   "execution_count": null,
   "id": "288683e0-2401-4f04-9953-538fb88857b8",
   "metadata": {},
   "outputs": [],
   "source": [
    "# plt.scatter(reduced_data[:,0],reduced_data[:,1],color='r')\n",
    "# plt.scatter(reduced_data[:10,0],reduced_data[:10,1],color='b')"
   ]
  },
  {
   "cell_type": "code",
   "execution_count": null,
   "id": "28b0882c-9600-428d-96c3-e70acc4251b8",
   "metadata": {},
   "outputs": [],
   "source": [
    "BASE_DIR='/nfs/general/shared'\n",
    "A_FILES=glob.glob('{}/KeyA/*.jpg'.format(BASE_DIR))\n",
    "D_FILES=glob.glob('{}/KeyD/*.jpg'.format(BASE_DIR))\n",
    "[x.replace(BASE_DIR, '') for x in  D_FILES]\n"
   ]
  },
  {
   "cell_type": "code",
   "execution_count": null,
   "id": "bd891dda-352e-4725-abe0-6d13c332dae7",
   "metadata": {},
   "outputs": [],
   "source": []
  },
  {
   "cell_type": "code",
   "execution_count": null,
   "id": "688a5ad2-2aec-4bac-b3d6-df8b0d1f5374",
   "metadata": {},
   "outputs": [],
   "source": []
  },
  {
   "cell_type": "code",
   "execution_count": null,
   "id": "0a3e08db-ee8a-4f79-9098-4734e4521269",
   "metadata": {},
   "outputs": [],
   "source": []
  },
  {
   "cell_type": "code",
   "execution_count": null,
   "id": "d2b264a8-f2a4-4dff-b1ee-54a201072d2d",
   "metadata": {},
   "outputs": [],
   "source": []
  }
 ],
 "metadata": {
  "kernelspec": {
   "display_name": "Python 3 (ipykernel)",
   "language": "python",
   "name": "python3"
  },
  "language_info": {
   "codemirror_mode": {
    "name": "ipython",
    "version": 3
   },
   "file_extension": ".py",
   "mimetype": "text/x-python",
   "name": "python",
   "nbconvert_exporter": "python",
   "pygments_lexer": "ipython3",
   "version": "3.8.10"
  }
 },
 "nbformat": 4,
 "nbformat_minor": 5
}
