{
 "cells": [
  {
   "cell_type": "code",
   "execution_count": 7,
   "id": "b1adb111-6b4d-4bbe-9ffc-50955001437f",
   "metadata": {},
   "outputs": [],
   "source": [
    "#!pip3 install --user matplotlib\n",
    "\n",
    "import sys\n",
    "\n",
    "\n",
    "import glob\n",
    "import numpy as np\n",
    "import matplotlib.pyplot as plt\n",
    "import matplotlib.image as mpimg\n"
   ]
  },
  {
   "cell_type": "code",
   "execution_count": 8,
   "id": "ddf69e7d-cdbf-4070-8fb5-9aee0cffb4a5",
   "metadata": {},
   "outputs": [],
   "source": [
    "aside=np.array([mpimg.imread(x) for x in glob.glob('/nfs/general/shared/KeyA/*.jpg')])\n",
    "bside=np.array([mpimg.imread(x) for x in glob.glob('/nfs/general/shared/KeyD/*.jpg')])\n",
    "y=np.zeros(aside.shape[0] + bside.shape[0])\n",
    "y[:aside.shape[0]]=1.0\n",
    "y[aside.shape[0]:]=0.0\n",
    "X=np.concatenate((aside,bside),axis=0)\n",
    "X=X.reshape(X.shape[0],-1)\n",
    "kImgShape=aside.shape[1:]\n",
    "\n",
    "def XtoImgShape(Xline):\n",
    "    return Xline.reshape(aside.shape[1:])\n",
    "\n",
    "def PlotSparseness(x):\n",
    "    plt.imshow(np.where(x!=0,255,0), interpolation='nearest')\n",
    "    \n",
    "def GenSingleChannelDicts(s, windowSizes):\n",
    "    for windowSize in windowSizes:\n",
    "        for x in range(0, s[0], windowSize):\n",
    "            for y in range(0, s[1], windowSize):\n",
    "                r=np.zeros(s)\n",
    "                r[x:x+windowSize,y:y+windowSize]=1\n",
    "                yield r\n",
    "\n",
    "def SpreadAcrossColors(mask):\n",
    "    for i in [0,1,2]:\n",
    "        r=np.zeros((*mask.shape,3))\n",
    "        r[:,:,i]=mask\n",
    "        yield r\n",
    "\n",
    "def GenDict(s, windowSize):\n",
    "    for d in GenSingleChannelDicts(s, windowSize):\n",
    "        for m in SpreadAcrossColors(d):\n",
    "            yield m\n",
    "\n",
    "def GenDictSize(s, windowSize):\n",
    "    size=0\n",
    "    for d in GenSingleChannelDicts(s, windowSize):\n",
    "        for m in SpreadAcrossColors(d):\n",
    "            size += 1\n",
    "    return size\n"
   ]
  },
  {
   "cell_type": "markdown",
   "id": "3c3d5b3b",
   "metadata": {},
   "source": []
  },
  {
   "cell_type": "code",
   "execution_count": null,
   "id": "32a10985-6b50-489d-9e02-bc79560a7ef8",
   "metadata": {},
   "outputs": [],
   "source": [
    "# sparse_mats=[sparse.coo_matrix(x.astype(np.float32).reshape((-1,1))) for x in GenDict(kImgShape[:2],[8,16,32])]\n",
    "# proj=sparse.hstack(sparse_mats)\n",
    "# Xp=X.dot(proj)\n",
    "# #proj=np.array([x for x in GenDict(kImgShape[:2],[16,32])])\n",
    "# #Xp=np.matmul(X, proj.reshape((proj.shape[0],-1)).transpose())\n",
    "# #proj=sparse.hstack([sparse.csr_matrix(x.astype(np.float32).reshape((-1,1))) for x in GenDict(kImgShape[:2],[8,16,32])], format='csr')\n",
    "\n",
    "# #Xp=np.matmul(X, proj)\n",
    "# Xp=X\n",
    "\n",
    "# # foo=PCA(n_components=2).fit_transform(Xp.transpose())\n",
    "# # plt.scatter(foo[:,0],foo[:,1],color='r')\n",
    "# # plt.scatter(foo[:10,0],foo[:10,1],color='g')\n",
    "\n",
    "\n",
    "# #clf = linear_model.Lasso(alpha=0.1)\n",
    "# #clf.fit(X,y)\n",
    "\n",
    "# eps = 1e-3\n",
    "# #alphas_lasso, coefs_lasso, coefs = linear_model.lasso_path(X,Y, eps=eps, verbose=True,  alphas=np.logspace(-4, 1, 10))\n",
    "\n",
    "# alphas_lasso, coefs_lasso, coefs = linear_model.lasso_path(Xp,y,eps=eps, verbose=True,  alphas=np.logspace(-4, 4, 10))\n",
    "\n",
    "# #alphas_lars, coefs_lars, coefs = linear_model.lars_path(X, y, method=\"lasso\", verbose=True)\n",
    "# #alphas_lars"
   ]
  },
  {
   "cell_type": "code",
   "execution_count": 34,
   "id": "f61f96b5",
   "metadata": {},
   "outputs": [
    {
     "data": {
      "text/plain": [
       "array([ 1.00000000e+00,  1.00000000e+00,  1.00000000e+00,  1.00000000e+00,\n",
       "        1.00000000e+00,  1.00000000e+00,  1.00000000e+00,  1.00000000e+00,\n",
       "        1.00000000e+00,  1.00000000e+00,  1.00000000e+00,  1.00000000e+00,\n",
       "        1.00000000e+00,  1.00000000e+00,  1.00000000e+00,  1.00000000e+00,\n",
       "        1.00000000e+00,  1.00000000e+00,  1.00000000e+00,  1.00000000e+00,\n",
       "        1.14450854e+00,  1.00000000e+00,  4.44089210e-15,  5.40177785e-01,\n",
       "       -8.65973959e-15,  1.11022302e-15,  1.26565425e-14,  1.53210777e-14,\n",
       "       -1.26565425e-14,  7.99360578e-15, -3.10549831e-01, -3.10862447e-15,\n",
       "        8.88178420e-16,  2.73114864e-14, -1.99840144e-15, -1.19904087e-14,\n",
       "        2.66453526e-15, -2.44249065e-15,  1.81814534e-01,  1.17498679e+00,\n",
       "       -7.32747196e-15,  1.33226763e-15,  2.22044605e-15,  1.06581410e-14,\n",
       "        3.33066907e-15,  2.88657986e-15, -1.73194792e-14, -5.77315973e-15,\n",
       "        9.99200722e-15,  9.54791801e-15, -1.75415238e-14, -8.21565038e-15,\n",
       "       -8.43769499e-15, -1.53210777e-14, -6.66133815e-16,  1.44328993e-14,\n",
       "        7.10464534e-01, -8.88178420e-16, -9.32587341e-15,  3.71290888e-01,\n",
       "        1.15463195e-14,  4.78270683e-02, -6.21724894e-15, -7.77156117e-15,\n",
       "        1.43579214e+00, -1.46549439e-14, -5.99520433e-15, -1.73194792e-14,\n",
       "        2.04281037e-14,  9.10382880e-15, -4.44089210e-15,  4.21884749e-15,\n",
       "        7.10542736e-15, -1.99840144e-15, -1.26565425e-14,  1.77635684e-14,\n",
       "       -2.22044605e-15, -4.21884749e-15,  1.37667655e-14, -1.06581410e-14,\n",
       "        1.55431223e-15,  2.88657986e-15, -6.21724894e-15,  3.99680289e-15,\n",
       "       -8.43769499e-15, -6.66133815e-15,  5.77315973e-15, -1.70584698e-01,\n",
       "       -1.99840144e-15,  7.99360578e-15,  8.65973959e-15, -4.44089210e-16,\n",
       "       -3.55271368e-15, -2.22044605e-14, -2.22044605e-16,  3.10862447e-15,\n",
       "       -5.32907052e-15,  2.22044605e-14,  1.83045252e-01, -1.31006317e-14,\n",
       "        4.21884749e-15,  9.32587341e-15, -6.66133815e-16,  1.59872116e-14,\n",
       "       -1.04360964e-14, -1.53210777e-14, -4.44089210e-16,  1.99840144e-14,\n",
       "        2.06501483e-14,  8.65973959e-15, -4.21884749e-15,  3.18024865e-01,\n",
       "       -1.19904087e-14, -2.02060590e-14])"
      ]
     },
     "execution_count": 34,
     "metadata": {},
     "output_type": "execute_result"
    }
   ],
   "source": [
    "#reg.predict(X)\n",
    "reg.predict(X)"
   ]
  },
  {
   "cell_type": "code",
   "execution_count": 17,
   "id": "0105662e",
   "metadata": {},
   "outputs": [
    {
     "name": "stderr",
     "output_type": "stream",
     "text": [
      "/home/geli/.local/lib/python3.8/site-packages/sklearn/linear_model/_omp.py:419: RuntimeWarning: Orthogonal matching pursuit ended prematurely due to linear dependence in the dictionary. The requested precision might not have been met.\n",
      "  out = _cholesky_omp(\n"
     ]
    }
   ],
   "source": [
    "from sklearn.linear_model import OrthogonalMatchingPursuit\n",
    "\n",
    "reg = OrthogonalMatchingPursuit(normalize=False, n_nonzero_coefs=1000).fit(X, y)"
   ]
  },
  {
   "cell_type": "code",
   "execution_count": 25,
   "id": "3c48b48b",
   "metadata": {},
   "outputs": [
    {
     "data": {
      "text/plain": [
       "2"
      ]
     },
     "execution_count": 25,
     "metadata": {},
     "output_type": "execute_result"
    }
   ],
   "source": [
    "# PlotSparseness(XtoImgShape(reg.coef_))\n",
    "\n",
    "reshapedCoefs=reg.coef_.reshape(kImgShape)\n",
    "x_,y_,c_=np.nonzero(reshapedCoefs)\n",
    "\n",
    "\n",
    "max(x_)\n",
    "max(c_)\n"
   ]
  },
  {
   "cell_type": "code",
   "execution_count": 27,
   "id": "006d5cee-51db-43dc-b96c-ba9f794e6fac",
   "metadata": {},
   "outputs": [
    {
     "name": "stdout",
     "output_type": "stream",
     "text": [
      "303\n"
     ]
    }
   ],
   "source": [
    "\n",
    "def SaveModel(reg, fname):\n",
    "    import array\n",
    "    reshapedCoefs=reg.coef_.reshape(kImgShape)\n",
    "    x_,y_,c_=np.nonzero(reshapedCoefs)\n",
    "    coefs_=reshapedCoefs[x_,y_,c_]\n",
    "    f=open(fname,'wb')\n",
    "\n",
    "    sizeArray=array.array('l')\n",
    "    sizeArray.fromlist(list(kImgShape)+[len(x_)])\n",
    "    f.write(sizeArray.tobytes())\n",
    "\n",
    "    indexArray=array.array('l')\n",
    "    tmp = list(x_)+list(y_)+list(c_)\n",
    "    indexArray.fromlist(tmp)\n",
    "    print(len(tmp))\n",
    "    f.write(indexArray.tobytes())\n",
    "\n",
    "    coefArray=array.array('f')\n",
    "    coefArray.append(reg.intercept_)\n",
    "    coefArray.extend(list(coefs_))\n",
    "    f.write(coefArray.tobytes())\n",
    "\n",
    "    f.close()\n",
    "\n",
    "SaveModel(reg, '/nfs/general/shared/model')\n",
    "#     f.close()\n",
    "\n",
    "\n",
    "#X.dot(reg.coef_)\n",
    "# lambda_max=np.max(np.abs(X.transpose().dot(y)))/y.size\n",
    "# print(lambda_max)\n",
    "# l=linear_model.Lasso(alpha=lambda_max*0.01)\n",
    "# r=l.fit(X,y)\n",
    "\n",
    "\n",
    "#np.sum(coefs_lasso[:,-1] != 0.0)\n",
    "#PlotSparseness(XtoImgShape(coefs_lasso[:,-1]))\n",
    "\n",
    "#coefs_lasso.shape\n",
    "\n",
    "#plt.imshow(np.max(proj[coefs_lasso[:,2]!=0,:,:,:],axis=0), interpolation='nearest')\n",
    "#print('num coefs={}'.format(np.sum(np.abs(l.coef_) > 0.0)))\n",
    "\n",
    "# PlotSparseness(XtoImgShape(X[0,:]))\n",
    "\n",
    "#len(coefs_)\n",
    "\n"
   ]
  },
  {
   "cell_type": "code",
   "execution_count": null,
   "id": "ad3e644b-e0f9-4d19-b744-2f41f88f32f6",
   "metadata": {},
   "outputs": [],
   "source": [
    "import sys\n",
    "\n",
    "# These are the usual ipython objects, including this one you are creating\n",
    "ipython_vars = ['In', 'Out', 'exit', 'quit', 'get_ipython', 'ipython_vars']\n",
    "\n",
    "# Get a sorted list of the objects and their sizes\n",
    "sorted([(x, sys.getsizeof(globals().get(x))) for x in dir() if not x.startswith('_') and x not in sys.modules and x not in ipython_vars], key=lambda x: x[1], reverse=True)\n",
    "\n",
    "#plt.imshow(np.max(proj[coefs_lasso[:,1]!=0,:,:,:],axis=0), interpolation='nearest')\n",
    "\n",
    "#coefs_lasso[coefs_lasso[:,1]!=0,1]"
   ]
  },
  {
   "cell_type": "code",
   "execution_count": 1,
   "id": "ddca14cd-14eb-4e8b-8239-1541112f0277",
   "metadata": {},
   "outputs": [
    {
     "ename": "NameError",
     "evalue": "name 'kImgShape' is not defined",
     "output_type": "error",
     "traceback": [
      "\u001b[0;31m---------------------------------------------------------------------------\u001b[0m",
      "\u001b[0;31mNameError\u001b[0m                                 Traceback (most recent call last)",
      "\u001b[0;32m/tmp/ipykernel_202900/3039794970.py\u001b[0m in \u001b[0;36m<module>\u001b[0;34m\u001b[0m\n\u001b[0;32m----> 1\u001b[0;31m \u001b[0mkImgShape\u001b[0m\u001b[0;34m\u001b[0m\u001b[0;34m\u001b[0m\u001b[0m\n\u001b[0m",
      "\u001b[0;31mNameError\u001b[0m: name 'kImgShape' is not defined"
     ]
    }
   ],
   "source": [
    "kImgShape"
   ]
  },
  {
   "cell_type": "code",
   "execution_count": null,
   "id": "894f4047-8cef-4d55-b9fa-0f4e304986aa",
   "metadata": {},
   "outputs": [],
   "source": [
    "#np.sum(coefs_lasso!=0,axis=0)"
   ]
  },
  {
   "cell_type": "code",
   "execution_count": null,
   "id": "d39ffd07-d64d-41cd-b0fe-e1b0dad08612",
   "metadata": {},
   "outputs": [],
   "source": []
  },
  {
   "cell_type": "code",
   "execution_count": null,
   "id": "1a0da3ea-a65d-4797-949a-507416a5ce6f",
   "metadata": {},
   "outputs": [],
   "source": [
    "#help(linear_model.lasso_path)"
   ]
  },
  {
   "cell_type": "code",
   "execution_count": null,
   "id": "c5e5b981-b119-4aae-971b-6c21a3cbd53a",
   "metadata": {},
   "outputs": [],
   "source": [
    "#from sklearn.decomposition import sparse_encode "
   ]
  },
  {
   "cell_type": "code",
   "execution_count": null,
   "id": "f53c0356-f487-4a46-9b94-a7aef678f49e",
   "metadata": {},
   "outputs": [],
   "source": [
    "#help(sparse_encode)"
   ]
  },
  {
   "cell_type": "code",
   "execution_count": null,
   "id": "6909d5cc-f307-45bf-b054-451bcab3950d",
   "metadata": {},
   "outputs": [],
   "source": [
    "# from sklearn.cluster import KMeans\n",
    "# from sklearn.decomposition import PCA\n",
    "\n",
    "# reduced_data = PCA(n_components=2).fit_transform(X)"
   ]
  },
  {
   "cell_type": "code",
   "execution_count": null,
   "id": "288683e0-2401-4f04-9953-538fb88857b8",
   "metadata": {},
   "outputs": [],
   "source": [
    "# plt.scatter(reduced_data[:,0],reduced_data[:,1],color='r')\n",
    "# plt.scatter(reduced_data[:10,0],reduced_data[:10,1],color='b')"
   ]
  },
  {
   "cell_type": "code",
   "execution_count": null,
   "id": "28b0882c-9600-428d-96c3-e70acc4251b8",
   "metadata": {},
   "outputs": [],
   "source": [
    "BASE_DIR='/nfs/general/shared'\n",
    "A_FILES=glob.glob('{}/KeyA/*.jpg'.format(BASE_DIR))\n",
    "D_FILES=glob.glob('{}/KeyD/*.jpg'.format(BASE_DIR))\n",
    "[x.replace(BASE_DIR, '') for x in  D_FILES]\n"
   ]
  },
  {
   "cell_type": "code",
   "execution_count": null,
   "id": "bd891dda-352e-4725-abe0-6d13c332dae7",
   "metadata": {},
   "outputs": [],
   "source": []
  },
  {
   "cell_type": "code",
   "execution_count": null,
   "id": "688a5ad2-2aec-4bac-b3d6-df8b0d1f5374",
   "metadata": {},
   "outputs": [],
   "source": []
  },
  {
   "cell_type": "code",
   "execution_count": null,
   "id": "0a3e08db-ee8a-4f79-9098-4734e4521269",
   "metadata": {},
   "outputs": [],
   "source": []
  },
  {
   "cell_type": "code",
   "execution_count": null,
   "id": "d2b264a8-f2a4-4dff-b1ee-54a201072d2d",
   "metadata": {},
   "outputs": [],
   "source": []
  }
 ],
 "metadata": {
  "kernelspec": {
   "display_name": "Python 3 (ipykernel)",
   "language": "python",
   "name": "python3"
  },
  "language_info": {
   "codemirror_mode": {
    "name": "ipython",
    "version": 3
   },
   "file_extension": ".py",
   "mimetype": "text/x-python",
   "name": "python",
   "nbconvert_exporter": "python",
   "pygments_lexer": "ipython3",
   "version": "3.8.10"
  }
 },
 "nbformat": 4,
 "nbformat_minor": 5
}
