{
 "cells": [
  {
   "cell_type": "code",
   "execution_count": 1,
   "id": "90b6f670",
   "metadata": {},
   "outputs": [
    {
     "name": "stderr",
     "output_type": "stream",
     "text": [
      "2022-04-19 19:04:26.607500: I tensorflow/stream_executor/cuda/cuda_gpu_executor.cc:936] successful NUMA node read from SysFS had negative value (-1), but there must be at least one NUMA node, so returning NUMA node zero\n",
      "2022-04-19 19:04:26.610981: I tensorflow/stream_executor/cuda/cuda_gpu_executor.cc:936] successful NUMA node read from SysFS had negative value (-1), but there must be at least one NUMA node, so returning NUMA node zero\n",
      "2022-04-19 19:04:26.611281: I tensorflow/stream_executor/cuda/cuda_gpu_executor.cc:936] successful NUMA node read from SysFS had negative value (-1), but there must be at least one NUMA node, so returning NUMA node zero\n",
      "2022-04-19 19:04:26.611724: I tensorflow/core/platform/cpu_feature_guard.cc:151] This TensorFlow binary is optimized with oneAPI Deep Neural Network Library (oneDNN) to use the following CPU instructions in performance-critical operations:  AVX2 FMA\n",
      "To enable them in other operations, rebuild TensorFlow with the appropriate compiler flags.\n",
      "2022-04-19 19:04:26.612439: I tensorflow/stream_executor/cuda/cuda_gpu_executor.cc:936] successful NUMA node read from SysFS had negative value (-1), but there must be at least one NUMA node, so returning NUMA node zero\n",
      "2022-04-19 19:04:26.612822: I tensorflow/stream_executor/cuda/cuda_gpu_executor.cc:936] successful NUMA node read from SysFS had negative value (-1), but there must be at least one NUMA node, so returning NUMA node zero\n",
      "2022-04-19 19:04:26.613121: I tensorflow/stream_executor/cuda/cuda_gpu_executor.cc:936] successful NUMA node read from SysFS had negative value (-1), but there must be at least one NUMA node, so returning NUMA node zero\n",
      "2022-04-19 19:04:26.970183: I tensorflow/stream_executor/cuda/cuda_gpu_executor.cc:936] successful NUMA node read from SysFS had negative value (-1), but there must be at least one NUMA node, so returning NUMA node zero\n",
      "2022-04-19 19:04:26.970483: I tensorflow/stream_executor/cuda/cuda_gpu_executor.cc:936] successful NUMA node read from SysFS had negative value (-1), but there must be at least one NUMA node, so returning NUMA node zero\n",
      "2022-04-19 19:04:26.970752: I tensorflow/stream_executor/cuda/cuda_gpu_executor.cc:936] successful NUMA node read from SysFS had negative value (-1), but there must be at least one NUMA node, so returning NUMA node zero\n",
      "2022-04-19 19:04:26.971013: I tensorflow/core/common_runtime/gpu/gpu_device.cc:1525] Created device /job:localhost/replica:0/task:0/device:GPU:0 with 10415 MB memory:  -> device: 0, name: GeForce GTX 1080 Ti, pci bus id: 0000:01:00.0, compute capability: 6.1\n"
     ]
    },
    {
     "name": "stdout",
     "output_type": "stream",
     "text": [
      "Epoch 1/100\n"
     ]
    },
    {
     "name": "stderr",
     "output_type": "stream",
     "text": [
      "2022-04-19 19:04:27.972392: I tensorflow/stream_executor/cuda/cuda_dnn.cc:368] Loaded cuDNN version 8400\n"
     ]
    },
    {
     "name": "stdout",
     "output_type": "stream",
     "text": [
      " 28/256 [==>...........................] - ETA: 0s - loss: 0.4687 - accuracy: 0.8616  "
     ]
    },
    {
     "name": "stderr",
     "output_type": "stream",
     "text": [
      "2022-04-19 19:04:28.220925: I tensorflow/core/platform/default/subprocess.cc:304] Start cannot spawn child process: No such file or directory\n"
     ]
    },
    {
     "name": "stdout",
     "output_type": "stream",
     "text": [
      "256/256 [==============================] - 2s 5ms/step - loss: 0.2513 - accuracy: 0.8960 - val_loss: 0.1496 - val_accuracy: 0.9540\n",
      "Epoch 2/100\n",
      "256/256 [==============================] - 1s 2ms/step - loss: 0.1469 - accuracy: 0.9592 - val_loss: 0.1185 - val_accuracy: 0.9890\n",
      "Epoch 3/100\n",
      "256/256 [==============================] - 1s 2ms/step - loss: 0.1171 - accuracy: 0.9744 - val_loss: 0.1166 - val_accuracy: 0.9780\n",
      "Epoch 4/100\n",
      "184/256 [====================>.........] - ETA: 0s - loss: 0.0950 - accuracy: 0.9854"
     ]
    },
    {
     "ename": "KeyboardInterrupt",
     "evalue": "",
     "output_type": "error",
     "traceback": [
      "\u001b[0;31m---------------------------------------------------------------------------\u001b[0m",
      "\u001b[0;31mKeyboardInterrupt\u001b[0m                         Traceback (most recent call last)",
      "\u001b[1;32m/home/geli/rpi_color_detector/classifier/tflite_training.ipynb Cell 1'\u001b[0m in \u001b[0;36m<cell line: 76>\u001b[0;34m()\u001b[0m\n\u001b[1;32m     <a href='vscode-notebook-cell://ssh-remote%2B192.168.0.14/home/geli/rpi_color_detector/classifier/tflite_training.ipynb#ch0000000vscode-remote?line=66'>67</a>\u001b[0m model_checkpoint_callback \u001b[39m=\u001b[39m tf\u001b[39m.\u001b[39mkeras\u001b[39m.\u001b[39mcallbacks\u001b[39m.\u001b[39mModelCheckpoint(\n\u001b[1;32m     <a href='vscode-notebook-cell://ssh-remote%2B192.168.0.14/home/geli/rpi_color_detector/classifier/tflite_training.ipynb#ch0000000vscode-remote?line=67'>68</a>\u001b[0m     filepath\u001b[39m=\u001b[39mcheckpoint_filepath,\n\u001b[1;32m     <a href='vscode-notebook-cell://ssh-remote%2B192.168.0.14/home/geli/rpi_color_detector/classifier/tflite_training.ipynb#ch0000000vscode-remote?line=68'>69</a>\u001b[0m     save_weights_only\u001b[39m=\u001b[39m\u001b[39mTrue\u001b[39;00m,\n\u001b[1;32m     <a href='vscode-notebook-cell://ssh-remote%2B192.168.0.14/home/geli/rpi_color_detector/classifier/tflite_training.ipynb#ch0000000vscode-remote?line=69'>70</a>\u001b[0m     monitor\u001b[39m=\u001b[39m\u001b[39m'\u001b[39m\u001b[39mval_accuracy\u001b[39m\u001b[39m'\u001b[39m,\n\u001b[1;32m     <a href='vscode-notebook-cell://ssh-remote%2B192.168.0.14/home/geli/rpi_color_detector/classifier/tflite_training.ipynb#ch0000000vscode-remote?line=70'>71</a>\u001b[0m     mode\u001b[39m=\u001b[39m\u001b[39m'\u001b[39m\u001b[39mmax\u001b[39m\u001b[39m'\u001b[39m,\n\u001b[1;32m     <a href='vscode-notebook-cell://ssh-remote%2B192.168.0.14/home/geli/rpi_color_detector/classifier/tflite_training.ipynb#ch0000000vscode-remote?line=71'>72</a>\u001b[0m     save_best_only\u001b[39m=\u001b[39m\u001b[39mFalse\u001b[39;00m)\n\u001b[1;32m     <a href='vscode-notebook-cell://ssh-remote%2B192.168.0.14/home/geli/rpi_color_detector/classifier/tflite_training.ipynb#ch0000000vscode-remote?line=73'>74</a>\u001b[0m \u001b[39m# help(model.fit)\u001b[39;00m\n\u001b[0;32m---> <a href='vscode-notebook-cell://ssh-remote%2B192.168.0.14/home/geli/rpi_color_detector/classifier/tflite_training.ipynb#ch0000000vscode-remote?line=75'>76</a>\u001b[0m model\u001b[39m.\u001b[39;49mfit(train_dataset, epochs\u001b[39m=\u001b[39;49m\u001b[39m100\u001b[39;49m, steps_per_epoch\u001b[39m=\u001b[39;49m\u001b[39m256\u001b[39;49m,\n\u001b[1;32m     <a href='vscode-notebook-cell://ssh-remote%2B192.168.0.14/home/geli/rpi_color_detector/classifier/tflite_training.ipynb#ch0000000vscode-remote?line=76'>77</a>\u001b[0m           validation_data\u001b[39m=\u001b[39;49mtest_dataset, callbacks\u001b[39m=\u001b[39;49m[tb_callback, model_checkpoint_callback])\n",
      "File \u001b[0;32m~/.local/lib/python3.8/site-packages/keras/utils/traceback_utils.py:64\u001b[0m, in \u001b[0;36mfilter_traceback.<locals>.error_handler\u001b[0;34m(*args, **kwargs)\u001b[0m\n\u001b[1;32m     <a href='file:///home/geli/.local/lib/python3.8/site-packages/keras/utils/traceback_utils.py?line=61'>62</a>\u001b[0m filtered_tb \u001b[39m=\u001b[39m \u001b[39mNone\u001b[39;00m\n\u001b[1;32m     <a href='file:///home/geli/.local/lib/python3.8/site-packages/keras/utils/traceback_utils.py?line=62'>63</a>\u001b[0m \u001b[39mtry\u001b[39;00m:\n\u001b[0;32m---> <a href='file:///home/geli/.local/lib/python3.8/site-packages/keras/utils/traceback_utils.py?line=63'>64</a>\u001b[0m   \u001b[39mreturn\u001b[39;00m fn(\u001b[39m*\u001b[39;49margs, \u001b[39m*\u001b[39;49m\u001b[39m*\u001b[39;49mkwargs)\n\u001b[1;32m     <a href='file:///home/geli/.local/lib/python3.8/site-packages/keras/utils/traceback_utils.py?line=64'>65</a>\u001b[0m \u001b[39mexcept\u001b[39;00m \u001b[39mException\u001b[39;00m \u001b[39mas\u001b[39;00m e:  \u001b[39m# pylint: disable=broad-except\u001b[39;00m\n\u001b[1;32m     <a href='file:///home/geli/.local/lib/python3.8/site-packages/keras/utils/traceback_utils.py?line=65'>66</a>\u001b[0m   filtered_tb \u001b[39m=\u001b[39m _process_traceback_frames(e\u001b[39m.\u001b[39m__traceback__)\n",
      "File \u001b[0;32m~/.local/lib/python3.8/site-packages/keras/engine/training.py:1376\u001b[0m, in \u001b[0;36mModel.fit\u001b[0;34m(self, x, y, batch_size, epochs, verbose, callbacks, validation_split, validation_data, shuffle, class_weight, sample_weight, initial_epoch, steps_per_epoch, validation_steps, validation_batch_size, validation_freq, max_queue_size, workers, use_multiprocessing)\u001b[0m\n\u001b[1;32m   <a href='file:///home/geli/.local/lib/python3.8/site-packages/keras/engine/training.py?line=1373'>1374</a>\u001b[0m callbacks\u001b[39m.\u001b[39mon_epoch_begin(epoch)\n\u001b[1;32m   <a href='file:///home/geli/.local/lib/python3.8/site-packages/keras/engine/training.py?line=1374'>1375</a>\u001b[0m \u001b[39mwith\u001b[39;00m data_handler\u001b[39m.\u001b[39mcatch_stop_iteration():\n\u001b[0;32m-> <a href='file:///home/geli/.local/lib/python3.8/site-packages/keras/engine/training.py?line=1375'>1376</a>\u001b[0m   \u001b[39mfor\u001b[39;00m step \u001b[39min\u001b[39;00m data_handler\u001b[39m.\u001b[39msteps():\n\u001b[1;32m   <a href='file:///home/geli/.local/lib/python3.8/site-packages/keras/engine/training.py?line=1376'>1377</a>\u001b[0m     \u001b[39mwith\u001b[39;00m tf\u001b[39m.\u001b[39mprofiler\u001b[39m.\u001b[39mexperimental\u001b[39m.\u001b[39mTrace(\n\u001b[1;32m   <a href='file:///home/geli/.local/lib/python3.8/site-packages/keras/engine/training.py?line=1377'>1378</a>\u001b[0m         \u001b[39m'\u001b[39m\u001b[39mtrain\u001b[39m\u001b[39m'\u001b[39m,\n\u001b[1;32m   <a href='file:///home/geli/.local/lib/python3.8/site-packages/keras/engine/training.py?line=1378'>1379</a>\u001b[0m         epoch_num\u001b[39m=\u001b[39mepoch,\n\u001b[1;32m   <a href='file:///home/geli/.local/lib/python3.8/site-packages/keras/engine/training.py?line=1379'>1380</a>\u001b[0m         step_num\u001b[39m=\u001b[39mstep,\n\u001b[1;32m   <a href='file:///home/geli/.local/lib/python3.8/site-packages/keras/engine/training.py?line=1380'>1381</a>\u001b[0m         batch_size\u001b[39m=\u001b[39mbatch_size,\n\u001b[1;32m   <a href='file:///home/geli/.local/lib/python3.8/site-packages/keras/engine/training.py?line=1381'>1382</a>\u001b[0m         _r\u001b[39m=\u001b[39m\u001b[39m1\u001b[39m):\n\u001b[1;32m   <a href='file:///home/geli/.local/lib/python3.8/site-packages/keras/engine/training.py?line=1382'>1383</a>\u001b[0m       callbacks\u001b[39m.\u001b[39mon_train_batch_begin(step)\n",
      "File \u001b[0;32m~/.local/lib/python3.8/site-packages/keras/engine/data_adapter.py:1246\u001b[0m, in \u001b[0;36mDataHandler.steps\u001b[0;34m(self)\u001b[0m\n\u001b[1;32m   <a href='file:///home/geli/.local/lib/python3.8/site-packages/keras/engine/data_adapter.py?line=1243'>1244</a>\u001b[0m \u001b[39mif\u001b[39;00m \u001b[39mself\u001b[39m\u001b[39m.\u001b[39m_insufficient_data:  \u001b[39m# Set by `catch_stop_iteration`.\u001b[39;00m\n\u001b[1;32m   <a href='file:///home/geli/.local/lib/python3.8/site-packages/keras/engine/data_adapter.py?line=1244'>1245</a>\u001b[0m   \u001b[39mbreak\u001b[39;00m\n\u001b[0;32m-> <a href='file:///home/geli/.local/lib/python3.8/site-packages/keras/engine/data_adapter.py?line=1245'>1246</a>\u001b[0m original_spe \u001b[39m=\u001b[39m \u001b[39mself\u001b[39;49m\u001b[39m.\u001b[39;49m_steps_per_execution\u001b[39m.\u001b[39;49mnumpy()\u001b[39m.\u001b[39mitem()\n\u001b[1;32m   <a href='file:///home/geli/.local/lib/python3.8/site-packages/keras/engine/data_adapter.py?line=1246'>1247</a>\u001b[0m can_run_full_execution \u001b[39m=\u001b[39m (\n\u001b[1;32m   <a href='file:///home/geli/.local/lib/python3.8/site-packages/keras/engine/data_adapter.py?line=1247'>1248</a>\u001b[0m     original_spe \u001b[39m==\u001b[39m \u001b[39m1\u001b[39m \u001b[39mor\u001b[39;00m\n\u001b[1;32m   <a href='file:///home/geli/.local/lib/python3.8/site-packages/keras/engine/data_adapter.py?line=1248'>1249</a>\u001b[0m     \u001b[39mself\u001b[39m\u001b[39m.\u001b[39m_inferred_steps \u001b[39mis\u001b[39;00m \u001b[39mNone\u001b[39;00m \u001b[39mor\u001b[39;00m\n\u001b[1;32m   <a href='file:///home/geli/.local/lib/python3.8/site-packages/keras/engine/data_adapter.py?line=1249'>1250</a>\u001b[0m     \u001b[39mself\u001b[39m\u001b[39m.\u001b[39m_inferred_steps \u001b[39m-\u001b[39m \u001b[39mself\u001b[39m\u001b[39m.\u001b[39m_current_step \u001b[39m>\u001b[39m\u001b[39m=\u001b[39m\n\u001b[1;32m   <a href='file:///home/geli/.local/lib/python3.8/site-packages/keras/engine/data_adapter.py?line=1250'>1251</a>\u001b[0m     original_spe)\n\u001b[1;32m   <a href='file:///home/geli/.local/lib/python3.8/site-packages/keras/engine/data_adapter.py?line=1252'>1253</a>\u001b[0m \u001b[39mif\u001b[39;00m can_run_full_execution:\n",
      "File \u001b[0;32m~/.local/lib/python3.8/site-packages/tensorflow/python/ops/resource_variable_ops.py:674\u001b[0m, in \u001b[0;36mBaseResourceVariable.numpy\u001b[0;34m(self)\u001b[0m\n\u001b[1;32m    <a href='file:///home/geli/.local/lib/python3.8/site-packages/tensorflow/python/ops/resource_variable_ops.py?line=671'>672</a>\u001b[0m \u001b[39mdef\u001b[39;00m \u001b[39mnumpy\u001b[39m(\u001b[39mself\u001b[39m):\n\u001b[1;32m    <a href='file:///home/geli/.local/lib/python3.8/site-packages/tensorflow/python/ops/resource_variable_ops.py?line=672'>673</a>\u001b[0m   \u001b[39mif\u001b[39;00m context\u001b[39m.\u001b[39mexecuting_eagerly():\n\u001b[0;32m--> <a href='file:///home/geli/.local/lib/python3.8/site-packages/tensorflow/python/ops/resource_variable_ops.py?line=673'>674</a>\u001b[0m     \u001b[39mreturn\u001b[39;00m \u001b[39mself\u001b[39;49m\u001b[39m.\u001b[39;49mread_value()\u001b[39m.\u001b[39;49mnumpy()\n\u001b[1;32m    <a href='file:///home/geli/.local/lib/python3.8/site-packages/tensorflow/python/ops/resource_variable_ops.py?line=674'>675</a>\u001b[0m   \u001b[39mraise\u001b[39;00m \u001b[39mNotImplementedError\u001b[39;00m(\n\u001b[1;32m    <a href='file:///home/geli/.local/lib/python3.8/site-packages/tensorflow/python/ops/resource_variable_ops.py?line=675'>676</a>\u001b[0m       \u001b[39m\"\u001b[39m\u001b[39mnumpy() is only available when eager execution is enabled.\u001b[39m\u001b[39m\"\u001b[39m)\n",
      "File \u001b[0;32m~/.local/lib/python3.8/site-packages/tensorflow/python/framework/ops.py:1223\u001b[0m, in \u001b[0;36m_EagerTensorBase.numpy\u001b[0;34m(self)\u001b[0m\n\u001b[1;32m   <a href='file:///home/geli/.local/lib/python3.8/site-packages/tensorflow/python/framework/ops.py?line=1199'>1200</a>\u001b[0m \u001b[39m\"\"\"Copy of the contents of this Tensor into a NumPy array or scalar.\u001b[39;00m\n\u001b[1;32m   <a href='file:///home/geli/.local/lib/python3.8/site-packages/tensorflow/python/framework/ops.py?line=1200'>1201</a>\u001b[0m \n\u001b[1;32m   <a href='file:///home/geli/.local/lib/python3.8/site-packages/tensorflow/python/framework/ops.py?line=1201'>1202</a>\u001b[0m \u001b[39mUnlike NumPy arrays, Tensors are immutable, so this method has to copy\u001b[39;00m\n\u001b[0;32m   (...)\u001b[0m\n\u001b[1;32m   <a href='file:///home/geli/.local/lib/python3.8/site-packages/tensorflow/python/framework/ops.py?line=1219'>1220</a>\u001b[0m \u001b[39m    NumPy dtype.\u001b[39;00m\n\u001b[1;32m   <a href='file:///home/geli/.local/lib/python3.8/site-packages/tensorflow/python/framework/ops.py?line=1220'>1221</a>\u001b[0m \u001b[39m\"\"\"\u001b[39;00m\n\u001b[1;32m   <a href='file:///home/geli/.local/lib/python3.8/site-packages/tensorflow/python/framework/ops.py?line=1221'>1222</a>\u001b[0m \u001b[39m# TODO(slebedev): Consider avoiding a copy for non-CPU or remote tensors.\u001b[39;00m\n\u001b[0;32m-> <a href='file:///home/geli/.local/lib/python3.8/site-packages/tensorflow/python/framework/ops.py?line=1222'>1223</a>\u001b[0m maybe_arr \u001b[39m=\u001b[39m \u001b[39mself\u001b[39;49m\u001b[39m.\u001b[39;49m_numpy()  \u001b[39m# pylint: disable=protected-access\u001b[39;00m\n\u001b[1;32m   <a href='file:///home/geli/.local/lib/python3.8/site-packages/tensorflow/python/framework/ops.py?line=1223'>1224</a>\u001b[0m \u001b[39mreturn\u001b[39;00m maybe_arr\u001b[39m.\u001b[39mcopy() \u001b[39mif\u001b[39;00m \u001b[39misinstance\u001b[39m(maybe_arr, np\u001b[39m.\u001b[39mndarray) \u001b[39melse\u001b[39;00m maybe_arr\n",
      "File \u001b[0;32m~/.local/lib/python3.8/site-packages/tensorflow/python/framework/ops.py:1189\u001b[0m, in \u001b[0;36m_EagerTensorBase._numpy\u001b[0;34m(self)\u001b[0m\n\u001b[1;32m   <a href='file:///home/geli/.local/lib/python3.8/site-packages/tensorflow/python/framework/ops.py?line=1186'>1187</a>\u001b[0m \u001b[39mdef\u001b[39;00m \u001b[39m_numpy\u001b[39m(\u001b[39mself\u001b[39m):\n\u001b[1;32m   <a href='file:///home/geli/.local/lib/python3.8/site-packages/tensorflow/python/framework/ops.py?line=1187'>1188</a>\u001b[0m   \u001b[39mtry\u001b[39;00m:\n\u001b[0;32m-> <a href='file:///home/geli/.local/lib/python3.8/site-packages/tensorflow/python/framework/ops.py?line=1188'>1189</a>\u001b[0m     \u001b[39mreturn\u001b[39;00m \u001b[39mself\u001b[39;49m\u001b[39m.\u001b[39;49m_numpy_internal()\n\u001b[1;32m   <a href='file:///home/geli/.local/lib/python3.8/site-packages/tensorflow/python/framework/ops.py?line=1189'>1190</a>\u001b[0m   \u001b[39mexcept\u001b[39;00m core\u001b[39m.\u001b[39m_NotOkStatusException \u001b[39mas\u001b[39;00m e:  \u001b[39m# pylint: disable=protected-access\u001b[39;00m\n\u001b[1;32m   <a href='file:///home/geli/.local/lib/python3.8/site-packages/tensorflow/python/framework/ops.py?line=1190'>1191</a>\u001b[0m     \u001b[39mraise\u001b[39;00m core\u001b[39m.\u001b[39m_status_to_exception(e) \u001b[39mfrom\u001b[39;00m \u001b[39mNone\u001b[39m\n",
      "\u001b[0;31mKeyboardInterrupt\u001b[0m: "
     ]
    }
   ],
   "source": [
    "import tensorflow as tf\n",
    "\n",
    "all_dataset = tf.data.Dataset.list_files(\n",
    "    \"/nfs/general/shared/Key*/*.jpg\").shuffle(buffer_size=10000)\n",
    "\n",
    "keys_tensor = tf.constant(['KeyA', 'KeyD'])\n",
    "vals_tensor = tf.constant([0, 1])\n",
    "init = tf.lookup.KeyValueTensorInitializer(keys_tensor, vals_tensor)\n",
    "table = tf.lookup.StaticHashTable(init, default_value=-1)\n",
    "\n",
    "def CreateImageAndLabel(filename):\n",
    "    image = tf.io.read_file(filename)\n",
    "    image = tf.io.decode_and_crop_jpeg(image, crop_window=tf.constant(\n",
    "        [220, 260, 40, 80], dtype=tf.int32), channels=3)\n",
    "    image = tf.image.convert_image_dtype(image, tf.float32)\n",
    "    labelString = tf.strings.split(filename, '/')[4]\n",
    "    # label = tf.one_hot(table.lookup(labelString),2)\n",
    "    return image, table.lookup(labelString)\n",
    "\n",
    "\n",
    "data_augmentation = tf.keras.Sequential(\n",
    "    [\n",
    "        tf.keras.layers.RandomRotation(0.1),\n",
    "        tf.keras.layers.RandomTranslation(0.1, 0.1)\n",
    "    ]\n",
    ")\n",
    "\n",
    "AUTOTUNE = tf.data.AUTOTUNE\n",
    "\n",
    "test_dataset = all_dataset.take(1000).map(CreateImageAndLabel, num_parallel_calls=tf.data.AUTOTUNE,\n",
    "                                          deterministic=False).batch(\n",
    "    16).map(lambda x, y: (data_augmentation(x), y), num_parallel_calls=tf.data.AUTOTUNE,\n",
    "            deterministic=False).cache().prefetch(buffer_size=AUTOTUNE)\n",
    "train_dataset = all_dataset.skip(1000).repeat().map(CreateImageAndLabel, num_parallel_calls=tf.data.AUTOTUNE,\n",
    "                                                    deterministic=False).batch(\n",
    "    16).map(lambda x, y: (data_augmentation(x), y), num_parallel_calls=tf.data.AUTOTUNE,\n",
    "            deterministic=False).prefetch(buffer_size=AUTOTUNE)\n",
    "\n",
    "model = tf.keras.Sequential([\n",
    "    tf.keras.layers.Conv2D(8, (5, 5), padding=\"same\", activation=\"relu\"),\n",
    "    tf.keras.layers.MaxPool2D(),\n",
    "    tf.keras.layers.Conv2D(8, (3, 3), padding=\"same\", activation=\"relu\"),\n",
    "    tf.keras.layers.MaxPool2D(),\n",
    "    tf.keras.layers.Conv2D(8, (3, 3), padding=\"same\", activation=\"relu\"),\n",
    "    tf.keras.layers.MaxPool2D(),\n",
    "    tf.keras.layers.Flatten(),\n",
    "    tf.keras.layers.Dense(16, activation='relu'),\n",
    "    tf.keras.layers.Dropout(0.2),\n",
    "    tf.keras.layers.Dense(2)\n",
    "])\n",
    "lr_schedule = tf.keras.optimizers.schedules.ExponentialDecay(\n",
    "    initial_learning_rate=0.001,\n",
    "    decay_steps=1000,\n",
    "    decay_rate=0.9,\n",
    "    staircase=True)\n",
    "\n",
    "model.compile(optimizer=tf.keras.optimizers.Adam(learning_rate=lr_schedule),  # 'adam',\n",
    "              loss=tf.keras.losses.SparseCategoricalCrossentropy(\n",
    "                  from_logits=True),\n",
    "              metrics=['accuracy'])\n",
    "\n",
    "\n",
    "tb_callback = tf.keras.callbacks.TensorBoard(\n",
    "    '/tmp/logs', update_freq=1, histogram_freq=1, write_images=True)\n",
    "\n",
    "checkpoint_filepath = '/tmp/checkpoint'\n",
    "model_checkpoint_callback = tf.keras.callbacks.ModelCheckpoint(\n",
    "    filepath=checkpoint_filepath,\n",
    "    save_weights_only=True,\n",
    "    monitor='val_accuracy',\n",
    "    mode='max',\n",
    "    save_best_only=False)\n",
    "\n",
    "# help(model.fit)\n",
    "\n",
    "model.fit(train_dataset, epochs=100, steps_per_epoch=256,\n",
    "          validation_data=test_dataset, callbacks=[tb_callback, model_checkpoint_callback])\n",
    "\n",
    "# print(X.shape, y.shape)\n"
   ]
  },
  {
   "cell_type": "code",
   "execution_count": null,
   "id": "59fd6b8d",
   "metadata": {},
   "outputs": [],
   "source": [
    "tf.saved_model.save(model, '/nfs/general/shared/tf_models/color_classifier')\n",
    "converter = tf.lite.TFLiteConverter.from_saved_model('/nfs/general/shared/tf_models/color_classifier') # path to the SavedModel directory\n",
    "converter.target_spec.supported_ops = [\n",
    "  tf.lite.OpsSet.TFLITE_BUILTINS, # enable TensorFlow Lite ops.\n",
    "#   tf.lite.OpsSet.SELECT_TF_OPS # enable TensorFlow ops.\n",
    "]\n",
    "tflite_model = converter.convert()\n",
    "open('/nfs/general/shared/tflite/color_classifier.tflite', 'wb').write(tflite_model)"
   ]
  }
 ],
 "metadata": {
  "kernelspec": {
   "display_name": "Python 3 (ipykernel)",
   "language": "python",
   "name": "python3"
  },
  "language_info": {
   "codemirror_mode": {
    "name": "ipython",
    "version": 3
   },
   "file_extension": ".py",
   "mimetype": "text/x-python",
   "name": "python",
   "nbconvert_exporter": "python",
   "pygments_lexer": "ipython3",
   "version": "3.8.10"
  }
 },
 "nbformat": 4,
 "nbformat_minor": 5
}
