{
 "cells": [
  {
   "cell_type": "code",
   "execution_count": null,
   "id": "1a1ac0f3",
   "metadata": {},
   "outputs": [],
   "source": [
    "import tensorflow as tf\n",
    "\n",
    "class FusedModel(tf.Module):\n",
    "  def __init__(self):\n",
    "    self.color_classifier = tf.saved_model.load('/nfs/general/shared/tf_models/color_classifier')\n",
    "    self.orientation_classifier=tf.saved_model.load('/nfs/general/shared/tf_models/orientation')\n",
    "\n",
    "  @tf.function(input_signature=[tf.TensorSpec(shape=[480,640,3], dtype=tf.uint8)])\n",
    "  def compute(self, image):\n",
    "    image_cropped_for_color = tf.image.convert_image_dtype(tf.image.crop_to_bounding_box(image, 220, 260, 40, 80), tf.float32)[tf.newaxis,:,:,:]\n",
    "    image_for_position_detection = tf.image.convert_image_dtype(tf.image.rgb_to_grayscale(tf.image.crop_to_bounding_box(image, 220,0,100,640)), tf.float32)[tf.newaxis,:,:,:]\n",
    "    orientation=self.orientation_classifier(image_for_position_detection)[0,:]\n",
    "    return tf.math.softmax(self.color_classifier(image_cropped_for_color))[0,:], orientation\n",
    "\n",
    "\n",
    "model = FusedModel()\n",
    "tf.saved_model.save(model, '/tmp/adder')\n",
    "\n",
    "converter = tf.lite.TFLiteConverter.from_saved_model('/tmp/adder') \n",
    "\n",
    "tflite_model = converter.convert()\n",
    "open('/nfs/general/shared/tflite/fused_model.tflite', 'wb').write(tflite_model)\n",
    "\n",
    "\n",
    "\n",
    "image = tf.io.decode_jpeg(tf.io.read_file('/nfs/general/shared/pos/0/1650270351460_.jpg'))\n",
    "\n",
    "model.compute(image)"
   ]
  }
 ],
 "metadata": {
  "kernelspec": {
   "display_name": "Python 3 (ipykernel)",
   "language": "python",
   "name": "python3"
  },
  "language_info": {
   "codemirror_mode": {
    "name": "ipython",
    "version": 3
   },
   "file_extension": ".py",
   "mimetype": "text/x-python",
   "name": "python",
   "nbconvert_exporter": "python",
   "pygments_lexer": "ipython3",
   "version": "3.8.10"
  }
 },
 "nbformat": 4,
 "nbformat_minor": 5
}
