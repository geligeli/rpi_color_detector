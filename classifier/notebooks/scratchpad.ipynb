{
 "cells": [
  {
   "cell_type": "code",
   "execution_count": 1,
   "metadata": {},
   "outputs": [
    {
     "data": {
      "text/plain": [
       "['multiclass', 'key_a_d']"
      ]
     },
     "execution_count": 1,
     "metadata": {},
     "output_type": "execute_result"
    }
   ],
   "source": [
    "import os\n",
    "os.environ[\"CUDA_VISIBLE_DEVICES\"] = \"-1\"\n",
    "\n",
    "\n"
   ]
  },
  {
   "cell_type": "code",
   "execution_count": 24,
   "metadata": {},
   "outputs": [],
   "source": [
    "if not True:\n",
    "    print('xxx')\n",
    "# import os\n",
    "# import glob\n",
    "\n",
    "\n",
    "# class ImageProvider():\n",
    "#     def __init__(self):\n",
    "#         self.IMAGES_BASE_DIR = '/nfs/general/shared/images'\n",
    "#         pass\n",
    "\n",
    "#     def listImages(self, dataset):\n",
    "#         if dataset not in os.listdir(self.IMAGES_BASE_DIR):\n",
    "#             return {}\n",
    "#         basedir=os.path.join(self.IMAGES_BASE_DIR, dataset)\n",
    "#         classes = [(x, os.path.join(basedir, x)) for x in os.listdir(basedir)]\n",
    "#         classes = filter(lambda x: os.path.isdir(x[1]), classes)\n",
    "#         r = {}\n",
    "#         for c in classes:\n",
    "#             r[c[0]] = [x[len(self.IMAGES_BASE_DIR)+1:] for x in  glob.glob(c[1] + '/*.jpg')]\n",
    "#         return r\n",
    "\n",
    "#     def filePath(self, image_path):\n",
    "#         image_path = os.path.normpath(os.path.join(self.IMAGES_BASE_DIR, image_path))\n",
    "#         if os.path.commonprefix((image_path, self.IMAGES_BASE_DIR)) != self.IMAGES_BASE_DIR:\n",
    "#             return None\n",
    "#         return image_path\n",
    "\n",
    "\n",
    "# ip=ImageProvider()\n",
    "\n",
    "# ip.listImages('key_a_d')\n",
    "\n",
    "# ip.filePath('key_a_d/KeyA/1650220626597_.jpg')"
   ]
  },
  {
   "cell_type": "code",
   "execution_count": 16,
   "metadata": {},
   "outputs": [
    {
     "data": {
      "text/plain": [
       "'/nfs/general/shared/images/key_a_d/KeyA/1650220626597_.jpg'"
      ]
     },
     "execution_count": 16,
     "metadata": {},
     "output_type": "execute_result"
    }
   ],
   "source": [
    "os.path.join('/nfs/general/shared/images', 'key_a_d/KeyA/1650220626597_.jpg')"
   ]
  },
  {
   "cell_type": "code",
   "execution_count": null,
   "metadata": {},
   "outputs": [],
   "source": []
  }
 ],
 "metadata": {
  "interpreter": {
   "hash": "916dbcbb3f70747c44a77c7bcd40155683ae19c65e1c03b4aa3499c5328201f1"
  },
  "kernelspec": {
   "display_name": "Python 3.8.10 64-bit",
   "language": "python",
   "name": "python3"
  },
  "language_info": {
   "codemirror_mode": {
    "name": "ipython",
    "version": 3
   },
   "file_extension": ".py",
   "mimetype": "text/x-python",
   "name": "python",
   "nbconvert_exporter": "python",
   "pygments_lexer": "ipython3",
   "version": "3.8.10"
  },
  "orig_nbformat": 4
 },
 "nbformat": 4,
 "nbformat_minor": 2
}
